{
 "nbformat": 4,
 "nbformat_minor": 0,
 "metadata": {
  "colab": {
   "name": "main.ipynb",
   "provenance": [],
   "collapsed_sections": [],
   "authorship_tag": "ABX9TyMJRktFwbfH3FQFMUeerdOi",
   "include_colab_link": true
  },
  "kernelspec": {
   "name": "python3",
   "display_name": "Python 3"
  }
 },
 "cells": [
  {
   "cell_type": "markdown",
   "metadata": {
    "id": "view-in-github",
    "colab_type": "text"
   },
   "source": [
    "<a href=\"https://colab.research.google.com/github/TheLast20/Red-Neuronal/blob/master/main.ipynb\" target=\"_parent\"><img src=\"https://colab.research.google.com/assets/colab-badge.svg\" alt=\"Open In Colab\"/></a>"
   ]
  },
  {
   "cell_type": "code",
   "metadata": {
    "id": "vz4yn9D7POuq",
    "colab_type": "code",
    "colab": {}
   },
   "source": [
    "import numpy as np\n",
    "import scipy as sc\n",
    "import matplotlib.pyplot as plt\n",
    "from sklearn.datasets import make_circles"
   ],
   "execution_count": 1,
   "outputs": []
  },
  {
   "cell_type": "code",
   "metadata": {
    "id": "-HdG6B7jPTPX",
    "colab_type": "code",
    "colab": {
     "base_uri": "https://localhost:8080/",
     "height": 265
    },
    "outputId": "2a2ea63b-85e0-4fef-cd58-48fc9089cc10"
   },
   "source": [
    "#Creamos el DataSET\n",
    "n = 500\n",
    "p = 2\n",
    "\n",
    "X,Y = make_circles(n_samples=n,factor=0.5,noise=0.05)\n",
    "\n",
    "plt.scatter(X[Y == 0,0],X[Y == 0,1],c=\"skyblue\")\n",
    "plt.scatter(X[Y == 1,0],X[Y == 1,1],c=\"salmon\")\n",
    "plt.axis(\"equal\")\n",
    "\n",
    "plt.grid()\n",
    "plt.show()"
   ],
   "execution_count": 80,
   "outputs": [
    {
     "output_type": "display_data",
     "data": {
      "image/png": "[encoded data removed]",
      "text/plain": [
       "<Figure size 432x288 with 1 Axes>"
      ]
     },
     "metadata": {
      "tags": [],
      "needs_background": "light"
     }
    }
   ]
  },
  {
   "cell_type": "code",
   "metadata": {
    "id": "UH-wXiUSRXm1",
    "colab_type": "code",
    "colab": {}
   },
   "source": [
    "class neural_layer():\n",
    "  def __init__(self,n_comn,n_neur,act_f):\n",
    "    self.act_f = act_f\n",
    "    self.b = np.random.rand(1,n_neur)*2 -1\n",
    "    self.W = np.random.rand(n_comn,n_neur)*2 -1\n"
   ],
   "execution_count": 73,
   "outputs": []
  },
  {
   "cell_type": "code",
   "metadata": {
    "id": "sedM_twOTiZB",
    "colab_type": "code",
    "colab": {}
   },
   "source": [
    "#FUNCIONES DE ACTIVACION\n",
    "\n",
    "sigm = (lambda x: 1/(1+np.e**(-x)),\n",
    "        lambda x: x*(1-x))\n"
   ],
   "execution_count": 74,
   "outputs": []
  },
  {
   "cell_type": "code",
   "metadata": {
    "id": "HN-W1kPOULJp",
    "colab_type": "code",
    "colab": {
     "base_uri": "https://localhost:8080/",
     "height": 353
    },
    "outputId": "237b00c3-aedb-4a45-a2e8-b16923be942b"
   },
   "source": [
    "\n",
    "\n",
    "def create_nn(topology,act_f):\n",
    "  nn = []\n",
    "  for l,layer in enumerate(topology[:-1]):\n",
    "    nn.append(neural_layer(topology[l],topology[l+1],act_f))\n",
    "  return nn\n",
    "\n",
    "topology = [p,4,8,16,8,4,1]\n",
    "neural_net = create_nn(topology,sigm)\n",
    "\n",
    "l2_cost = (lambda Yp, Yr: np.mean(((Yp-Yr)**2)),\n",
    "           lambda Yp, Yr: (Yp - Yr))\n",
    "\n",
    "\n",
    "def train(neural_net,X,Y,l2_cost,lr=0.5,train = True):\n",
    "  out = [(None,X)]\n",
    "  for l,layer in enumerate(neural_net):\n",
    "    z = out[-1][1]@neural_net[l].W +  neural_net[l].b\n",
    "    a = neural_net[l].act_f[0](z)\n",
    "    out.append((z,a))\n",
    "\n",
    "  if train:\n",
    "    deltas = []\n",
    "\n",
    "    for l in reversed(range(len(neural_net))):\n",
    "      z = out[l+1][0]\n",
    "      a = out[l+1][1]\n",
    "      print(a.shape)\n",
    "\n",
    "      if l == len(neural_net)-1:\n",
    "        deltas.insert(0,l2_cost[1](a,Y)*neural_net[l].act_f[1](a))\n",
    "      \n",
    "      else:\n",
    "        deltas.insert(0,deltas[0]@neural_net[l+1]._W*neural_net[l].act_f[1](a))\n",
    "\n",
    "    _W = eural_net[l+1].W\n",
    "\n",
    "    neural_net[l].b = neural_net[l].b - np.mean(deltas[0],axis = 0,keepddims = True) *lr\n",
    "    neural_net[l].W = neural_net[l].W - out[l]deltas[0]*lr\n",
    "\n",
    "\n",
    "\n",
    "train(neural_net,X,Y,l2_cost,0.5)"
   ],
   "execution_count": 103,
   "outputs": [
    {
     "output_type": "stream",
     "text": [
      "(500, 1)\n"
     ],
     "name": "stdout"
    },
    {
     "output_type": "error",
     "ename": "AttributeError",
     "evalue": "ignored",
     "traceback": [
      "\u001B[0;31m---------------------------------------------------------------------------\u001B[0m",
      "\u001B[0;31mAttributeError\u001B[0m                            Traceback (most recent call last)",
      "\u001B[0;32m<ipython-input-103-29f3b7cb7ec3>\u001B[0m in \u001B[0;36m<module>\u001B[0;34m()\u001B[0m\n\u001B[1;32m     35\u001B[0m \u001B[0;34m\u001B[0m\u001B[0m\n\u001B[1;32m     36\u001B[0m \u001B[0;34m\u001B[0m\u001B[0m\n\u001B[0;32m---> 37\u001B[0;31m \u001B[0mtrain\u001B[0m\u001B[0;34m(\u001B[0m\u001B[0mneural_net\u001B[0m\u001B[0;34m,\u001B[0m\u001B[0mX\u001B[0m\u001B[0;34m,\u001B[0m\u001B[0mY\u001B[0m\u001B[0;34m,\u001B[0m\u001B[0ml2_cost\u001B[0m\u001B[0;34m,\u001B[0m\u001B[0;36m0.5\u001B[0m\u001B[0;34m)\u001B[0m\u001B[0;34m\u001B[0m\u001B[0;34m\u001B[0m\u001B[0m\n\u001B[0m",
      "\u001B[0;32m<ipython-input-103-29f3b7cb7ec3>\u001B[0m in \u001B[0;36mtrain\u001B[0;34m(neural_net, X, Y, l2_cost, lr, train)\u001B[0m\n\u001B[1;32m     31\u001B[0m       \u001B[0;32mif\u001B[0m \u001B[0ml\u001B[0m \u001B[0;34m==\u001B[0m \u001B[0mlen\u001B[0m\u001B[0;34m(\u001B[0m\u001B[0mneural_net\u001B[0m\u001B[0;34m)\u001B[0m\u001B[0;34m-\u001B[0m\u001B[0;36m1\u001B[0m\u001B[0;34m:\u001B[0m\u001B[0;34m\u001B[0m\u001B[0;34m\u001B[0m\u001B[0m\n\u001B[1;32m     32\u001B[0m         \u001B[0mdeltas\u001B[0m\u001B[0;34m.\u001B[0m\u001B[0minsert\u001B[0m\u001B[0;34m(\u001B[0m\u001B[0;36m0\u001B[0m\u001B[0;34m,\u001B[0m\u001B[0ml2_cost\u001B[0m\u001B[0;34m[\u001B[0m\u001B[0;36m1\u001B[0m\u001B[0;34m]\u001B[0m\u001B[0;34m(\u001B[0m\u001B[0ma\u001B[0m\u001B[0;34m,\u001B[0m\u001B[0mY\u001B[0m\u001B[0;34m)\u001B[0m\u001B[0;34m*\u001B[0m\u001B[0mneural_net\u001B[0m\u001B[0;34m[\u001B[0m\u001B[0ml\u001B[0m\u001B[0;34m]\u001B[0m\u001B[0;34m.\u001B[0m\u001B[0mact_f\u001B[0m\u001B[0;34m[\u001B[0m\u001B[0;36m1\u001B[0m\u001B[0;34m]\u001B[0m\u001B[0;34m(\u001B[0m\u001B[0ma\u001B[0m\u001B[0;34m)\u001B[0m\u001B[0;34m)\u001B[0m\u001B[0;34m\u001B[0m\u001B[0;34m\u001B[0m\u001B[0m\n\u001B[0;32m---> 33\u001B[0;31m         \u001B[0mprint\u001B[0m\u001B[0;34m(\u001B[0m\u001B[0mdeltas\u001B[0m\u001B[0;34m.\u001B[0m\u001B[0mshape\u001B[0m\u001B[0;34m)\u001B[0m\u001B[0;34m\u001B[0m\u001B[0;34m\u001B[0m\u001B[0m\n\u001B[0m\u001B[1;32m     34\u001B[0m \u001B[0;34m\u001B[0m\u001B[0m\n\u001B[1;32m     35\u001B[0m \u001B[0;34m\u001B[0m\u001B[0m\n",
      "\u001B[0;31mAttributeError\u001B[0m: 'list' object has no attribute 'shape'"
     ]
    }
   ]
  },
  {
   "cell_type": "code",
   "metadata": {
    "id": "6WWOXPAAe2z9",
    "colab_type": "code",
    "colab": {}
   },
   "source": [
    ""
   ],
   "execution_count": null,
   "outputs": []
  }
 ]
}